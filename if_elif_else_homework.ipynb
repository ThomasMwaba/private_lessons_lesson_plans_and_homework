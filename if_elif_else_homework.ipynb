{
 "cells": [
  {
   "cell_type": "markdown",
   "id": "08fdcba1-7c36-4daf-bf6f-d19813af720f",
   "metadata": {},
   "source": [
    "**Question 1:**\r\n",
    "Can you write a code to tell if a number is positive, negative, or zero?\r\n",
    "\r\n",
    "**Question 2:**\r\n",
    "Imagine you're making a program that talks to people. If someone tells you their age, can you make the program say if they're a child, teenager, or adult?\r\n",
    "\r\n",
    "**Question 3:**\r\n",
    "Can you create a program to find the biggest number out of three numbers?\r\n",
    "\r\n",
    "**Question 4:**\r\n",
    "Suppose you have a program that understands days of the week. Can you make it say if a day is a weekday or a weekend day?\r\n",
    "\r\n",
    "**Question 5:**\r\n",
    "Let's say you're writing a program about years. Can you make it figure out if a year is a leap year or not?\r\n",
    "\r\n",
    "**Question 6:**\r\n",
    "Imagine you're writing a program that talks about different programming languages. If someone tells you their favorite language, can you make the program say something nice about it?\r\n",
    "\r\n",
    "**Question 7:**\r\n",
    "Picture a program that understands about health. Can you make it tell if someone is underweight, normal weight, overweight, or obese based on their weight and height?\r\n",
    "\r\n",
    "**Question 8:**\r\n",
    "Suppose you're writing a program that deals with numbers. If someone tells you a number, can you make the program find out its square root if it's positive?\r\n",
    "\r\n",
    "**Question 9:**\r\n",
    "Imagine a program that needs a secret code to let someone in. If someone tries to log in, can you make the program check if they have the right username and password?\r\n",
    "\r\n",
    "**Question 10:**\r\n",
    "Let's say you're writing a program to help with learning multiplication. Can you make it show the times table for a number omeone picks, from 1 to 10?\r\n",
    "."
   ]
  },
  {
   "cell_type": "code",
   "execution_count": null,
   "id": "dbd66bb2-3920-4fc6-9f33-2de9e99ba8c6",
   "metadata": {},
   "outputs": [],
   "source": []
  }
 ],
 "metadata": {
  "kernelspec": {
   "display_name": "Python 3 (ipykernel)",
   "language": "python",
   "name": "python3"
  },
  "language_info": {
   "codemirror_mode": {
    "name": "ipython",
    "version": 3
   },
   "file_extension": ".py",
   "mimetype": "text/x-python",
   "name": "python",
   "nbconvert_exporter": "python",
   "pygments_lexer": "ipython3",
   "version": "3.10.13"
  }
 },
 "nbformat": 4,
 "nbformat_minor": 5
}
