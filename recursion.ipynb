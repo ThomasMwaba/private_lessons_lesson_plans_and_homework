{
 "cells": [
  {
   "cell_type": "markdown",
   "metadata": {},
   "source": [
    "### Recursion \n",
    " A function that calls itself from within helps to visualize a complex problem into basic steps problems can be solved more easily iteratively or recursively.\n",
    "\n",
    " * iterative = faster, complex \n",
    " * recursive = slower, simpler"
   ]
  },
  {
   "cell_type": "code",
   "execution_count": 3,
   "metadata": {},
   "outputs": [],
   "source": [
    "def walk(steps):\n",
    "    if steps == 0:\n",
    "        return\n",
    "    walk(steps - 1)\n",
    "    print(f\"You take step {steps}\")\n",
    "    "
   ]
  },
  {
   "cell_type": "code",
   "execution_count": 4,
   "metadata": {},
   "outputs": [
    {
     "name": "stdout",
     "output_type": "stream",
     "text": [
      "You take step 1\n",
      "You take step 2\n",
      "You take step 3\n",
      "You take step 4\n",
      "You take step 5\n",
      "You take step 6\n",
      "You take step 7\n",
      "You take step 8\n",
      "You take step 9\n",
      "You take step 10\n"
     ]
    }
   ],
   "source": [
    "walk(10) # creates a stack data structure"
   ]
  },
  {
   "cell_type": "code",
   "execution_count": null,
   "metadata": {},
   "outputs": [],
   "source": []
  }
 ],
 "metadata": {
  "kernelspec": {
   "display_name": "Python 3",
   "language": "python",
   "name": "python3"
  },
  "language_info": {
   "codemirror_mode": {
    "name": "ipython",
    "version": 3
   },
   "file_extension": ".py",
   "mimetype": "text/x-python",
   "name": "python",
   "nbconvert_exporter": "python",
   "pygments_lexer": "ipython3",
   "version": "3.11.1"
  }
 },
 "nbformat": 4,
 "nbformat_minor": 2
}
