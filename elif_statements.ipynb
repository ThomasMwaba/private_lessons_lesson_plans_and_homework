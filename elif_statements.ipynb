{
 "cells": [
  {
   "cell_type": "markdown",
   "id": "b1740cb1-cab9-437e-bb94-4dea211c507b",
   "metadata": {},
   "source": [
    "\"elif\" is a shortened form of \"else if\". It's used to check additional conditions if the previous conditions were not met.\n",
    "\n",
    "- **If:** If a condition is true, do something.\n",
    "- **Else if (elif):** If the previous condition was not true, check another condition. If this condition is true, do something.\n",
    "- **Else:** If none of the above conditions are true, do something else."
   ]
  },
  {
   "cell_type": "code",
   "execution_count": null,
   "id": "baaf4ade-54bf-4745-874a-2a9860fa5abe",
   "metadata": {},
   "outputs": [],
   "source": []
  },
  {
   "cell_type": "code",
   "execution_count": 1,
   "id": "2cd7986c-d3bd-4fbc-8612-3516ff0c5f97",
   "metadata": {},
   "outputs": [
    {
     "name": "stdout",
     "output_type": "stream",
     "text": [
      "x is 5 or less\n"
     ]
    }
   ],
   "source": [
    "x = 5\n",
    "\n",
    "# Check if x is greater than 10\n",
    "if x > 10:\n",
    "    print(\"x is greater than 10\")\n",
    "# If x is not greater than 10, check if it's greater than 5\n",
    "elif x > 5:\n",
    "    print(\"x is greater than 5 but not greater than 10\")\n",
    "# If x is neither greater than 10 nor greater than 5, it must be 5 or less\n",
    "else:\n",
    "    print(\"x is 5 or less\")"
   ]
  },
  {
   "cell_type": "code",
   "execution_count": null,
   "id": "14c5abf4-4358-434d-919d-1cf125b102e3",
   "metadata": {},
   "outputs": [],
   "source": []
  }
 ],
 "metadata": {
  "kernelspec": {
   "display_name": "Python 3 (ipykernel)",
   "language": "python",
   "name": "python3"
  },
  "language_info": {
   "codemirror_mode": {
    "name": "ipython",
    "version": 3
   },
   "file_extension": ".py",
   "mimetype": "text/x-python",
   "name": "python",
   "nbconvert_exporter": "python",
   "pygments_lexer": "ipython3",
   "version": "3.10.13"
  }
 },
 "nbformat": 4,
 "nbformat_minor": 5
}
