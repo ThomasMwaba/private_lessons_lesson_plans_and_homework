{
 "cells": [
  {
   "cell_type": "markdown",
   "id": "94fcd709-0cde-4d7f-9244-d7cf960f5871",
   "metadata": {},
   "source": [
    "##### Question 1: Write an if-else statement to check if num1 is greater than num2\n",
    "###### num1 = 10\n",
    "###### num2 = 20\r\n",
    "\n"
   ]
  },
  {
   "cell_type": "code",
   "execution_count": null,
   "id": "6549318c-314e-44be-b00e-dafb4a63cb36",
   "metadata": {},
   "outputs": [],
   "source": []
  },
  {
   "cell_type": "markdown",
   "id": "0454801d-249e-4c6e-a367-9208f34db138",
   "metadata": {},
   "source": [
    "##### Question 2: Write an if-else statement to check if string1 is equal to string2\n",
    "###### string1 = \"apple\"\n",
    "###### string2 = \"banana\""
   ]
  },
  {
   "cell_type": "code",
   "execution_count": null,
   "id": "889a6626-bd6e-4673-9dd3-4d1c66864777",
   "metadata": {},
   "outputs": [],
   "source": []
  },
  {
   "cell_type": "markdown",
   "id": "b40f609e-20e9-497a-a25d-56b922a7764c",
   "metadata": {},
   "source": [
    "##### Question 3: Write an if-else statement to check if bool1 is False\n",
    "###### bool1 = True\n",
    "###### bool2 = False"
   ]
  },
  {
   "cell_type": "code",
   "execution_count": null,
   "id": "968e8741-a710-4c83-8d3e-5e40b7cd27ba",
   "metadata": {},
   "outputs": [],
   "source": []
  },
  {
   "cell_type": "markdown",
   "id": "9378e36a-2adb-45fd-b7d4-71219f369012",
   "metadata": {},
   "source": [
    "##### Question 4: Write an if-else statement to check if the value is between 10 and 20 (inclusive)\n",
    "###### value = 15"
   ]
  },
  {
   "cell_type": "code",
   "execution_count": null,
   "id": "42a63b8d-b574-4408-9c7f-1d4e76e32c0c",
   "metadata": {},
   "outputs": [],
   "source": []
  },
  {
   "cell_type": "markdown",
   "id": "7133b95f-b69b-4912-8128-061750792ba7",
   "metadata": {},
   "source": [
    "##### Question 5: Write an if-else statement to check if list1 is equal to list2\n",
    "###### list1 = [1, 2, 3]\n",
    "###### list2 = [1, 2, 3]"
   ]
  },
  {
   "cell_type": "code",
   "execution_count": null,
   "id": "b12cbda3-e7d0-4ab0-a446-1523c3775f22",
   "metadata": {},
   "outputs": [],
   "source": []
  },
  {
   "cell_type": "markdown",
   "id": "e1748f32-ecfa-49f5-a49a-66ffeebb26a5",
   "metadata": {},
   "source": [
    "##### Question 6: Write an if-else statement to check if x is greater than 3 and y is less than 15\n",
    "###### x = 5\n",
    "###### y = 12"
   ]
  },
  {
   "cell_type": "code",
   "execution_count": null,
   "id": "93a253c2-1901-4787-a6d4-abc08038aeff",
   "metadata": {},
   "outputs": [],
   "source": []
  },
  {
   "cell_type": "markdown",
   "id": "53592e64-dcd0-4d4a-9813-c82c40c4d981",
   "metadata": {},
   "source": [
    "##### Question 7: Write an if-else statement to check if the number is even or old.\n",
    "###### number = 27"
   ]
  },
  {
   "cell_type": "code",
   "execution_count": null,
   "id": "974e8b22-2533-43f1-97a5-dc8ce9cf8fe8",
   "metadata": {},
   "outputs": [],
   "source": []
  },
  {
   "cell_type": "markdown",
   "id": "60c23058-16e8-4557-a2fc-af7591c30c6f",
   "metadata": {},
   "source": [
    "##### Question 8: Write an if-else statement to check if a is greater than 5. If true, check if b is even.\n",
    "###### a = 7\n",
    "###### b = 5"
   ]
  },
  {
   "cell_type": "code",
   "execution_count": null,
   "id": "146c84bf-d75b-4fa4-82e2-c7b8d16d3caa",
   "metadata": {},
   "outputs": [],
   "source": []
  }
 ],
 "metadata": {
  "kernelspec": {
   "display_name": "Python 3 (ipykernel)",
   "language": "python",
   "name": "python3"
  },
  "language_info": {
   "codemirror_mode": {
    "name": "ipython",
    "version": 3
   },
   "file_extension": ".py",
   "mimetype": "text/x-python",
   "name": "python",
   "nbconvert_exporter": "python",
   "pygments_lexer": "ipython3",
   "version": "3.10.13"
  }
 },
 "nbformat": 4,
 "nbformat_minor": 5
}
