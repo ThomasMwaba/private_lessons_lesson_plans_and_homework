{
 "cells": [
  {
   "cell_type": "code",
   "execution_count": 1,
   "metadata": {},
   "outputs": [],
   "source": [
    "class Mom:\n",
    "    \n",
    "    def __init__(self,height,weight,tribe,personality):\n",
    "        \n",
    "        self.height = height\n",
    "        \n",
    "        self.weight = weight\n",
    "        \n",
    "        self.tribe = tribe\n",
    "        \n",
    "        self.personality = personality\n",
    "        \n",
    "    def  character(self):\n",
    "        \n",
    "        if self.personality in ['funny','serious','positive']:\n",
    "            print('That is my mom')\n",
    "            \n",
    "        else:\n",
    "            print('That is not my mom')"
   ]
  },
  {
   "cell_type": "code",
   "execution_count": 5,
   "metadata": {},
   "outputs": [],
   "source": [
    "mom = Mom(165,60,'Lozi','positive')"
   ]
  },
  {
   "cell_type": "code",
   "execution_count": 9,
   "metadata": {},
   "outputs": [
    {
     "name": "stdout",
     "output_type": "stream",
     "text": [
      "165 60 Lozi positive\n"
     ]
    }
   ],
   "source": [
    "print(mom.height,mom.weight,mom.tribe,mom.personality)\n",
    "\n"
   ]
  },
  {
   "cell_type": "code",
   "execution_count": 33,
   "metadata": {},
   "outputs": [],
   "source": [
    "class Me(Mom):\n",
    "        \n",
    "    def character(self):\n",
    "        \n",
    "        return f'Very ambitious and hard working'"
   ]
  },
  {
   "cell_type": "code",
   "execution_count": 35,
   "metadata": {},
   "outputs": [],
   "source": [
    "me = Me(168,60,'lozi','hardworking')"
   ]
  },
  {
   "cell_type": "code",
   "execution_count": 36,
   "metadata": {},
   "outputs": [
    {
     "data": {
      "text/plain": [
       "'Very ambitious and hard working'"
      ]
     },
     "execution_count": 36,
     "metadata": {},
     "output_type": "execute_result"
    }
   ],
   "source": [
    "me.character()"
   ]
  },
  {
   "cell_type": "code",
   "execution_count": 12,
   "metadata": {},
   "outputs": [],
   "source": [
    "class Food:\n",
    "    \n",
    "    def __init__(self,name,color,nutrient):\n",
    "        \n",
    "        self.name = name \n",
    "        \n",
    "        self.color = color\n",
    "        \n",
    "        self.nutrient = nutrient\n",
    "        \n",
    "        \n",
    "    def eat(self):\n",
    "        print(f'The {self.name} is being eaten')\n",
    "        \n",
    "class Vegetable(Food):\n",
    "    \n",
    "    def __init__(self,name,color,nutrient,taste):\n",
    "        \n",
    "        super().__init__(name,color,nutrient)\n",
    "        \n",
    "        self.taste = taste\n",
    "        \n",
    "        "
   ]
  },
  {
   "cell_type": "code",
   "execution_count": 13,
   "metadata": {},
   "outputs": [],
   "source": [
    "vegetable = Vegetable(name='Spinach',color='green',nutrient='protein',taste='Earthy')"
   ]
  },
  {
   "cell_type": "code",
   "execution_count": 14,
   "metadata": {},
   "outputs": [
    {
     "data": {
      "text/plain": [
       "'Spinach'"
      ]
     },
     "execution_count": 14,
     "metadata": {},
     "output_type": "execute_result"
    }
   ],
   "source": [
    "vegetable.name\n"
   ]
  },
  {
   "cell_type": "code",
   "execution_count": 15,
   "metadata": {},
   "outputs": [
    {
     "name": "stdout",
     "output_type": "stream",
     "text": [
      "The Spinach is being eaten\n"
     ]
    }
   ],
   "source": [
    "vegetable.eat()"
   ]
  },
  {
   "cell_type": "code",
   "execution_count": null,
   "metadata": {},
   "outputs": [],
   "source": []
  }
 ],
 "metadata": {
  "kernelspec": {
   "display_name": "Python 3",
   "language": "python",
   "name": "python3"
  },
  "language_info": {
   "codemirror_mode": {
    "name": "ipython",
    "version": 3
   },
   "file_extension": ".py",
   "mimetype": "text/x-python",
   "name": "python",
   "nbconvert_exporter": "python",
   "pygments_lexer": "ipython3",
   "version": "3.11.1"
  }
 },
 "nbformat": 4,
 "nbformat_minor": 2
}
