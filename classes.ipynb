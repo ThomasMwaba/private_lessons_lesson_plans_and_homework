{
 "cells": [
  {
   "cell_type": "code",
   "execution_count": 1,
   "metadata": {},
   "outputs": [],
   "source": [
    "class Mom:\n",
    "    \n",
    "    def __init__(self,height,weight,tribe,personality):\n",
    "        \n",
    "        self.height = height\n",
    "        \n",
    "        self.weight = weight\n",
    "        \n",
    "        self.tribe = tribe\n",
    "        \n",
    "        self.personality = personality\n",
    "        \n",
    "    def  character(self):\n",
    "        \n",
    "        if self.personality in ['funny','serious','positive']:\n",
    "            print('That is my mom')\n",
    "            \n",
    "        else:\n",
    "            print('That is not my mom')"
   ]
  },
  {
   "cell_type": "code",
   "execution_count": 5,
   "metadata": {},
   "outputs": [],
   "source": [
    "mom = Mom(165,60,'Lozi','positive')"
   ]
  },
  {
   "cell_type": "code",
   "execution_count": 9,
   "metadata": {},
   "outputs": [
    {
     "name": "stdout",
     "output_type": "stream",
     "text": [
      "165 60 Lozi positive\n"
     ]
    }
   ],
   "source": [
    "print(mom.height,mom.weight,mom.tribe,mom.personality)\n",
    "\n"
   ]
  },
  {
   "cell_type": "code",
   "execution_count": 33,
   "metadata": {},
   "outputs": [],
   "source": [
    "class Me(Mom):\n",
    "        \n",
    "    def character(self):\n",
    "        \n",
    "        return f'Very ambitious and hard working'"
   ]
  },
  {
   "cell_type": "code",
   "execution_count": 35,
   "metadata": {},
   "outputs": [],
   "source": [
    "me = Me(168,60,'lozi','hardworking')"
   ]
  },
  {
   "cell_type": "code",
   "execution_count": 36,
   "metadata": {},
   "outputs": [
    {
     "data": {
      "text/plain": [
       "'Very ambitious and hard working'"
      ]
     },
     "execution_count": 36,
     "metadata": {},
     "output_type": "execute_result"
    }
   ],
   "source": [
    "me.character()"
   ]
  },
  {
   "cell_type": "code",
   "execution_count": 12,
   "metadata": {},
   "outputs": [],
   "source": [
    "class Food:\n",
    "    \n",
    "    def __init__(self,name,color,nutrient):\n",
    "        \n",
    "        self.name = name \n",
    "        \n",
    "        self.color = color\n",
    "        \n",
    "        self.nutrient = nutrient\n",
    "        \n",
    "        \n",
    "    def eat(self):\n",
    "        print(f'The {self.name} is being eaten')\n",
    "        \n",
    "class Vegetable(Food):\n",
    "    \n",
    "    def __init__(self,name,color,nutrient,taste):\n",
    "        \n",
    "        super().__init__(name,color,nutrient)\n",
    "        \n",
    "        self.taste = taste\n",
    "        \n",
    "        "
   ]
  },
  {
   "cell_type": "code",
   "execution_count": 13,
   "metadata": {},
   "outputs": [],
   "source": [
    "vegetable = Vegetable(name='Spinach',color='green',nutrient='protein',taste='Earthy')"
   ]
  },
  {
   "cell_type": "code",
   "execution_count": 14,
   "metadata": {},
   "outputs": [
    {
     "data": {
      "text/plain": [
       "'Spinach'"
      ]
     },
     "execution_count": 14,
     "metadata": {},
     "output_type": "execute_result"
    }
   ],
   "source": [
    "vegetable.name\n"
   ]
  },
  {
   "cell_type": "code",
   "execution_count": 15,
   "metadata": {},
   "outputs": [
    {
     "name": "stdout",
     "output_type": "stream",
     "text": [
      "The Spinach is being eaten\n"
     ]
    }
   ],
   "source": [
    "vegetable.eat()"
   ]
  },
  {
   "cell_type": "markdown",
   "metadata": {},
   "source": [
    "### Abstract Class\n",
    "\n",
    "1. is a class that cannot be instantiated on its own.\n",
    "2. It is meant to be subclassed\n",
    "3. Prevents instantiation of the class itself\n",
    "4. Requires children to use inherited abstract methods"
   ]
  },
  {
   "cell_type": "markdown",
   "metadata": {},
   "source": []
  },
  {
   "cell_type": "code",
   "execution_count": 5,
   "metadata": {},
   "outputs": [],
   "source": [
    "from abc import ABC, abstractmethod\n",
    "\n",
    "class Country(ABC):\n",
    "    \n",
    "    @abstractmethod\n",
    "    def population(self):\n",
    "        pass\n",
    "    \n",
    "    def continent(self):\n",
    "        pass\n",
    "    \n",
    "class Zambia(Country):\n",
    "    \n",
    "    def population(self):\n",
    "        print(\"The population of Zambia is 20 million\")\n",
    "        \n",
    "    def continent(self):\n",
    "        print(\"It is located in Africa\")"
   ]
  },
  {
   "cell_type": "code",
   "execution_count": 7,
   "metadata": {},
   "outputs": [],
   "source": [
    "zambia = Zambia()"
   ]
  },
  {
   "cell_type": "code",
   "execution_count": 8,
   "metadata": {},
   "outputs": [
    {
     "name": "stdout",
     "output_type": "stream",
     "text": [
      "The population of Zambia is 20 million\n"
     ]
    }
   ],
   "source": [
    "zambia.population()"
   ]
  },
  {
   "cell_type": "code",
   "execution_count": 9,
   "metadata": {},
   "outputs": [
    {
     "name": "stdout",
     "output_type": "stream",
     "text": [
      "It is located in Africa\n"
     ]
    }
   ],
   "source": [
    "zambia.continent()"
   ]
  },
  {
   "cell_type": "code",
   "execution_count": 10,
   "metadata": {},
   "outputs": [
    {
     "ename": "TypeError",
     "evalue": "Can't instantiate abstract class Country with abstract method population",
     "output_type": "error",
     "traceback": [
      "\u001b[1;31m---------------------------------------------------------------------------\u001b[0m",
      "\u001b[1;31mTypeError\u001b[0m                                 Traceback (most recent call last)",
      "Cell \u001b[1;32mIn[10], line 1\u001b[0m\n\u001b[1;32m----> 1\u001b[0m country \u001b[38;5;241m=\u001b[39m \u001b[43mCountry\u001b[49m\u001b[43m(\u001b[49m\u001b[43m)\u001b[49m\n",
      "\u001b[1;31mTypeError\u001b[0m: Can't instantiate abstract class Country with abstract method population"
     ]
    }
   ],
   "source": [
    "country = Country()"
   ]
  },
  {
   "cell_type": "markdown",
   "metadata": {},
   "source": [
    "#### Computer \n",
    "\n",
    "###### Attributes (features)\n",
    "\n",
    ">>>>>* Screen\n",
    ">>>>>* Size\n",
    ">>>>>* color\n",
    ">>>>>* Internet \n",
    "\n",
    "###### Attributes (features)\n",
    "\n",
    ">>>>>* playing games\n",
    ">>>>>* Watching something\n",
    ">>>>>* Printing something"
   ]
  },
  {
   "cell_type": "code",
   "execution_count": 10,
   "metadata": {},
   "outputs": [],
   "source": [
    "class Computer:\n",
    "    \n",
    "    def __init__(self,screen,weight,color,internet):\n",
    "        \n",
    "        self.screen = screen \n",
    "        self.weight = weight\n",
    "        self.color = color \n",
    "        self.internet = internet\n",
    "        \n",
    "    def play(self):\n",
    "        print(f'I play on my {self.screen} screen')\n"
   ]
  },
  {
   "cell_type": "code",
   "execution_count": 11,
   "metadata": {},
   "outputs": [],
   "source": [
    "my_computer = Computer(screen=\"big\",weight=3,color=\"black\",internet=True)"
   ]
  },
  {
   "cell_type": "code",
   "execution_count": 12,
   "metadata": {},
   "outputs": [
    {
     "data": {
      "text/plain": [
       "'black'"
      ]
     },
     "execution_count": 12,
     "metadata": {},
     "output_type": "execute_result"
    }
   ],
   "source": [
    "my_computer.color"
   ]
  },
  {
   "cell_type": "code",
   "execution_count": 13,
   "metadata": {},
   "outputs": [
    {
     "name": "stdout",
     "output_type": "stream",
     "text": [
      "I play on my big screen\n"
     ]
    }
   ],
   "source": [
    "my_computer.play()"
   ]
  },
  {
   "cell_type": "code",
   "execution_count": 8,
   "metadata": {},
   "outputs": [],
   "source": [
    "class Herbivore:\n",
    "    def hunt(self):\n",
    "        print(\"eats veggies\")\n",
    "\n",
    "class Carnivore:\n",
    "    def flee(self):\n",
    "        print(\"eats meat\")\n",
    "\n",
    "class Rabbit(Herbivore):\n",
    "    pass\n",
    "\n",
    "class Lion(Carnivore):\n",
    "    pass\n",
    "\n",
    "class Bear(Herbivore,Carnivore):\n",
    "    pass"
   ]
  },
  {
   "cell_type": "code",
   "execution_count": 9,
   "metadata": {},
   "outputs": [],
   "source": [
    "rabbit = Rabbit()\n",
    "lion = Lion()\n",
    "bear = Bear()"
   ]
  },
  {
   "cell_type": "code",
   "execution_count": 3,
   "metadata": {},
   "outputs": [
    {
     "name": "stdout",
     "output_type": "stream",
     "text": [
      "eats meat\n"
     ]
    }
   ],
   "source": [
    "lion.eat()"
   ]
  },
  {
   "cell_type": "code",
   "execution_count": 4,
   "metadata": {},
   "outputs": [
    {
     "name": "stdout",
     "output_type": "stream",
     "text": [
      "eats veggies\n"
     ]
    }
   ],
   "source": [
    "rabbit.eat()"
   ]
  },
  {
   "cell_type": "code",
   "execution_count": 10,
   "metadata": {},
   "outputs": [
    {
     "name": "stdout",
     "output_type": "stream",
     "text": [
      "eats veggies\n"
     ]
    }
   ],
   "source": [
    "bear.eat()"
   ]
  },
  {
   "cell_type": "code",
   "execution_count": null,
   "metadata": {},
   "outputs": [],
   "source": []
  }
 ],
 "metadata": {
  "kernelspec": {
   "display_name": "Python 3",
   "language": "python",
   "name": "python3"
  },
  "language_info": {
   "codemirror_mode": {
    "name": "ipython",
    "version": 3
   },
   "file_extension": ".py",
   "mimetype": "text/x-python",
   "name": "python",
   "nbconvert_exporter": "python",
   "pygments_lexer": "ipython3",
   "version": "3.11.1"
  }
 },
 "nbformat": 4,
 "nbformat_minor": 2
}
