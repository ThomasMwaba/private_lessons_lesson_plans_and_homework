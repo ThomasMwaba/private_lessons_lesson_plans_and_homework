{
 "cells": [
  {
   "cell_type": "markdown",
   "id": "5acafdb2-15f5-4c21-99e6-16a79096c793",
   "metadata": {},
   "source": [
    "#### Question 1:\n",
    "\n",
    "\n",
    "Write a Python program that asks the user to enter a number and then prints all the even numbers from 1 to that number using a while loop.\n"
   ]
  },
  {
   "cell_type": "code",
   "execution_count": null,
   "id": "1efcb0b5-abfe-4514-a569-15bd9b212206",
   "metadata": {},
   "outputs": [],
   "source": []
  },
  {
   "cell_type": "markdown",
   "id": "2e646132-6570-4122-9f10-b868073cdcc4",
   "metadata": {},
   "source": [
    "#### Question 2:\n",
    "Create a Python program that prompts the user to enter a password. Keep prompting the user until they enter the correct password \"abc123\".\n"
   ]
  },
  {
   "cell_type": "code",
   "execution_count": null,
   "id": "215abfdc-dd93-438d-82e9-c11fbfdf7a8e",
   "metadata": {},
   "outputs": [],
   "source": []
  },
  {
   "cell_type": "markdown",
   "id": "4c222f01-d662-46aa-b1a9-430dbc88a66e",
   "metadata": {},
   "source": [
    "##### Question 3:\n",
    "Write a Python program that calculates the sum of all the numbers from 1 to 100 using a while loop.\n"
   ]
  },
  {
   "cell_type": "code",
   "execution_count": null,
   "id": "4a3ac9ce-8f24-48ef-a281-6db1ffbfd421",
   "metadata": {},
   "outputs": [],
   "source": []
  },
  {
   "cell_type": "markdown",
   "id": "10730abc-69bc-433e-8785-7f04236e72bf",
   "metadata": {},
   "source": [
    "###### Question 4:\n",
    "Design a Python program that continuously prompts the user to guess a secret number between 1 and 100. If the user guesses correctly, the program should print \"Congratulations!\" and terminate. Otherwise, it should keep prompting the user until they guess correctly.\n"
   ]
  },
  {
   "cell_type": "markdown",
   "id": "7e4bf063-df3f-409e-a78f-66ef25246e41",
   "metadata": {},
   "source": [
    "##### Question 5:\n",
    "Develop a Python program that generates random numbers between 1 and 10 until it generates a number greater than 8. Count and print the total number of attempts it took to generate such a number.\n"
   ]
  },
  {
   "cell_type": "code",
   "execution_count": null,
   "id": "1e753ca2-ef4e-4a0d-b31d-6e4a0e1154be",
   "metadata": {},
   "outputs": [],
   "source": []
  },
  {
   "cell_type": "markdown",
   "id": "733129f5-1576-4484-b72b-abd4a789ce52",
   "metadata": {},
   "source": [
    "##### Question 6:\n",
    "Write a Python program that prompts the user to enter a positive integer. If the user enters a negative number or zero, the program should keep prompting until a positive integer is entered.\n"
   ]
  },
  {
   "cell_type": "code",
   "execution_count": null,
   "id": "f278c2c2-724f-4697-bca3-a42a7b8c154d",
   "metadata": {},
   "outputs": [],
   "source": []
  },
  {
   "cell_type": "code",
   "execution_count": null,
   "id": "abd2b613-5841-4f7e-885d-1f42d25d7061",
   "metadata": {},
   "outputs": [],
   "source": []
  }
 ],
 "metadata": {
  "kernelspec": {
   "display_name": "Python 3 (ipykernel)",
   "language": "python",
   "name": "python3"
  },
  "language_info": {
   "codemirror_mode": {
    "name": "ipython",
    "version": 3
   },
   "file_extension": ".py",
   "mimetype": "text/x-python",
   "name": "python",
   "nbconvert_exporter": "python",
   "pygments_lexer": "ipython3",
   "version": "3.10.13"
  }
 },
 "nbformat": 4,
 "nbformat_minor": 5
}
