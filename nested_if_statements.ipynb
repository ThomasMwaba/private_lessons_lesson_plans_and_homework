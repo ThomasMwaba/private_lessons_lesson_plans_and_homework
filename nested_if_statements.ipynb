{
 "cells": [
  {
   "cell_type": "markdown",
   "id": "4c79d213-e6ab-4df6-8789-5d9b526917b0",
   "metadata": {},
   "source": [
    "##### x = 12 \n",
    "##### \n",
    "y = 3\n",
    "##### 1. Check if x is greater than 10. If true, check if y is less than 5."
   ]
  },
  {
   "cell_type": "code",
   "execution_count": null,
   "id": "d2da9324-e1d8-42c0-80c6-0feee45bdf5d",
   "metadata": {},
   "outputs": [],
   "source": []
  },
  {
   "cell_type": "code",
   "execution_count": null,
   "id": "70d6329b-e4d6-42fa-bcd8-227384cbf8e3",
   "metadata": {},
   "outputs": [],
   "source": []
  },
  {
   "cell_type": "markdown",
   "id": "4c226c23-a8ac-49b1-abef-b805318fa3ff",
   "metadata": {},
   "source": [
    "##### num = 12 \n",
    "##### 2. Check if num is positive. If true, check if num is divisible by 2."
   ]
  },
  {
   "cell_type": "code",
   "execution_count": null,
   "id": "9bf4fc88-249d-471a-bb7b-2a4a33d6df23",
   "metadata": {},
   "outputs": [],
   "source": []
  },
  {
   "cell_type": "markdown",
   "id": "f4935daa-ed0a-401c-b824-b1ebed251935",
   "metadata": {},
   "source": [
    "##### a = 15 \n",
    "##### 3. Check if a is divisible by 3. If true, check if a is also divisible by 5."
   ]
  },
  {
   "cell_type": "code",
   "execution_count": null,
   "id": "f71cd614-7ada-4449-8bea-e10f956fddd5",
   "metadata": {},
   "outputs": [],
   "source": []
  },
  {
   "cell_type": "markdown",
   "id": "a43a8041-7720-42ea-8812-ad3e66b9ec82",
   "metadata": {},
   "source": [
    "##### age = 25 \n",
    "##### 4. Check if age is greater than or equal to 18. If true, check if age is less than 65."
   ]
  },
  {
   "cell_type": "code",
   "execution_count": null,
   "id": "651db330-4a27-4e16-93e3-fef989e5a633",
   "metadata": {},
   "outputs": [],
   "source": []
  },
  {
   "cell_type": "markdown",
   "id": "554034ac-66b3-4a95-b7b9-94a9550ba365",
   "metadata": {},
   "source": [
    "##### num1 = 8\n",
    "##### num2 = 10\n",
    "##### 5. Check if num1 is equal to num2. If false, check if num1 is less than num2."
   ]
  },
  {
   "cell_type": "code",
   "execution_count": null,
   "id": "217b9777-bbe3-4666-918e-900a720ea6db",
   "metadata": {},
   "outputs": [],
   "source": []
  },
  {
   "cell_type": "markdown",
   "id": "bad37740-ed71-4d01-ae3e-28c614f5eb5e",
   "metadata": {},
   "source": [
    "##### x = -9\n",
    "##### 6. Check if x is negative. If true, check if x is divisible by 3."
   ]
  },
  {
   "cell_type": "code",
   "execution_count": null,
   "id": "069dc04e-d3bd-4bb4-8f2b-fc45bca2b808",
   "metadata": {},
   "outputs": [],
   "source": []
  },
  {
   "cell_type": "markdown",
   "id": "d83fd363-2da0-4c66-81cb-e3a38b7db3fa",
   "metadata": {},
   "source": [
    "##### num = 75\n",
    "##### 7. Check if num is greater than 0. If true, check if num is less than 100."
   ]
  },
  {
   "cell_type": "code",
   "execution_count": null,
   "id": "f9e01f78-1a46-4010-a84b-d758f5dac82a",
   "metadata": {},
   "outputs": [],
   "source": []
  },
  {
   "cell_type": "markdown",
   "id": "607126e0-94b4-49af-8c37-223a12233b0e",
   "metadata": {},
   "source": [
    "##### x = 12\n",
    "##### 8. Check if x is even. If true, check if x is divisible by 4."
   ]
  },
  {
   "cell_type": "code",
   "execution_count": null,
   "id": "d11d36b4-18cb-496d-8db7-3e8932e0904f",
   "metadata": {},
   "outputs": [],
   "source": []
  },
  {
   "cell_type": "markdown",
   "id": "de876f0f-7ea0-4c72-ad57-835a0563d275",
   "metadata": {},
   "source": [
    "##### age = 30\n",
    "##### 9. Check if age is greater than 21. If true, check if age is less than 65."
   ]
  },
  {
   "cell_type": "code",
   "execution_count": null,
   "id": "017d9e52-9c00-457f-9924-fe5517294b94",
   "metadata": {},
   "outputs": [],
   "source": []
  },
  {
   "cell_type": "markdown",
   "id": "6a56614b-7b92-41e6-a5dd-ea85356cd083",
   "metadata": {},
   "source": [
    "##### num1 = 40\n",
    "##### num2 = 25\n",
    "##### 10. Check if num1 is less than 50. If true, check if num2 is greater than 20."
   ]
  },
  {
   "cell_type": "code",
   "execution_count": null,
   "id": "7336bae6-097e-4ea6-8230-913a7bf353b3",
   "metadata": {},
   "outputs": [],
   "source": []
  }
 ],
 "metadata": {
  "kernelspec": {
   "display_name": "Python 3 (ipykernel)",
   "language": "python",
   "name": "python3"
  },
  "language_info": {
   "codemirror_mode": {
    "name": "ipython",
    "version": 3
   },
   "file_extension": ".py",
   "mimetype": "text/x-python",
   "name": "python",
   "nbconvert_exporter": "python",
   "pygments_lexer": "ipython3",
   "version": "3.10.13"
  }
 },
 "nbformat": 4,
 "nbformat_minor": 5
}
