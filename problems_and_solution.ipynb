{
 "cells": [
  {
   "cell_type": "markdown",
   "metadata": {},
   "source": [
    "##### Question\n",
    "Develop a Python program that generates random numbers between 1 and 10 until it generates a number greater than 8. Count and print the total number of attempts it took to generate such a number."
   ]
  },
  {
   "cell_type": "code",
   "execution_count": 5,
   "metadata": {},
   "outputs": [
    {
     "name": "stdout",
     "output_type": "stream",
     "text": [
      "3 isn't greater than 8\n",
      "2 isn't greater than 8\n",
      "3 isn't greater than 8\n",
      "5 isn't greater than 8\n",
      "4 isn't greater than 8\n",
      "2 isn't greater than 8\n",
      "your random number is 10 and took 7 attempts to find\n"
     ]
    }
   ],
   "source": [
    "import random\n",
    "\n",
    "count=1 \n",
    "\n",
    "while True:\n",
    "    random_number = random.randint(1,10) # guess random integer between 1 and 10\n",
    "    if random_number > 8: # If the random number guessed is greater than 8\n",
    "        print(f\"your random number is {random_number} and took {count} attempts to find\") # print the random number and write the number of attempts it took to guess\n",
    "        break\n",
    "    else:\n",
    "        print(f\"{random_number} isn't greater than 8\") # show the number which was guessed \n",
    "        count+=1 # increase the number of tries and guess again"
   ]
  },
  {
   "cell_type": "code",
   "execution_count": null,
   "metadata": {},
   "outputs": [],
   "source": []
  }
 ],
 "metadata": {
  "kernelspec": {
   "display_name": "Python 3",
   "language": "python",
   "name": "python3"
  },
  "language_info": {
   "codemirror_mode": {
    "name": "ipython",
    "version": 3
   },
   "file_extension": ".py",
   "mimetype": "text/x-python",
   "name": "python",
   "nbconvert_exporter": "python",
   "pygments_lexer": "ipython3",
   "version": "3.11.1"
  }
 },
 "nbformat": 4,
 "nbformat_minor": 2
}
