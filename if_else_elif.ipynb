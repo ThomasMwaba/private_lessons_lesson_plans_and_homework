{
 "cells": [
  {
   "cell_type": "markdown",
   "id": "affa28d1-afe7-48d7-85d4-abbb73ec1aed",
   "metadata": {},
   "source": [
    "#### If And Elif Statements"
   ]
  },
  {
   "cell_type": "markdown",
   "id": "a72453a0-47a2-4923-890e-094d51972bfa",
   "metadata": {},
   "source": [
    "##### These if-elif statements are different from if-else statements because there can be more than one if-elif statement"
   ]
  },
  {
   "cell_type": "code",
   "execution_count": 1,
   "id": "c6ffff02-c7de-4000-9c9c-b1e88f335425",
   "metadata": {},
   "outputs": [
    {
     "name": "stdout",
     "output_type": "stream",
     "text": [
      "you are a young adult\n"
     ]
    }
   ],
   "source": [
    "age = 20\n",
    "# Check if age is equal to 13 then print \"you are a teen\"\n",
    "if age == 13:\n",
    "    print(\"you are a teen\")\n",
    "# Check if age is equal to 12 then print \"you are not a teen\"\n",
    "elif age == 12:\n",
    "    print(\"you are not a teen\")\n",
    "# Check if age is less than or equal to 2 then print \"you are a baby\"\n",
    "elif age <= 2:\n",
    "    print(\"You are a baby\")\n",
    "# Check if age is equal to 20 then print \"you are an adult\"\n",
    "elif age == 20:\n",
    "    print(\"you are an adult\")\n",
    "# If none of the above conditions are met Print \"How old are you?\n",
    "else:\n",
    "    print(\"How old are you?\")"
   ]
  },
  {
   "cell_type": "markdown",
   "id": "8d25eb33-d1f9-47ec-8702-23ca5adccf8f",
   "metadata": {},
   "source": [
    "\n",
    "d at y."
   ]
  },
  {
   "cell_type": "markdown",
   "id": "a19e62ae-3a81-49a0-a581-6485dfcab884",
   "metadata": {},
   "source": [
    "In this example, the `if` statement on the second line checks to see if the value of the `age` is equal to 20. **Since age is equal to 13, the computer jumps to the next `elif` and continues to check until the value of `age` is 20.**"
   ]
  },
  {
   "cell_type": "markdown",
   "id": "eb560d06-236a-4fad-9138-e6f8bf96802f",
   "metadata": {},
   "source": [
    "#### Combining Conditions"
   ]
  },
  {
   "cell_type": "markdown",
   "id": "c7ece467-b5f5-47a5-b6a3-51f2fd36ccee",
   "metadata": {},
   "source": [
    "You can combine conditions by using the keywords **and** and **or**, which\n",
    "produces shorter and simpler code. Here’s an example of using or"
   ]
  },
  {
   "cell_type": "code",
   "execution_count": 5,
   "id": "ecc247cf-efcb-496d-ab00-a6781c0942c0",
   "metadata": {},
   "outputs": [
    {
     "name": "stdout",
     "output_type": "stream",
     "text": [
      "How old are you?\n"
     ]
    }
   ],
   "source": [
    "age1 = 10\n",
    "# Check if age1 is equal to 13, 14, 15, or 16 then print \"You are a teenage\"\n",
    "if age1 == 13 or age1 == 14  or age1 == 15 or age1 == 16:\n",
    "    print(\"You are a teenage\")\n",
    "# If age1 is not equal to any of these ages Print \"How old are you?\"\n",
    "else:\n",
    "    print(\"How old are you?\")"
   ]
  },
  {
   "cell_type": "code",
   "execution_count": 6,
   "id": "80fd522f-8b07-4665-a84a-fef52aa0050b",
   "metadata": {},
   "outputs": [
    {
     "name": "stdout",
     "output_type": "stream",
     "text": [
      "How old are you?\n"
     ]
    }
   ],
   "source": [
    "# Check if age1 is between 13 and 19 (inclusive) then print \"You are a teenage\"\n",
    "if age1 >= 13 and age1 <= 19:\n",
    "    print(\"You are a teenage\")  \n",
    "# If age1 is not between 13 and 19 Print \"How old are you?\"\n",
    "else:\n",
    "    print(\"How old are you?\") "
   ]
  },
  {
   "cell_type": "markdown",
   "id": "b4585fee-6619-4503-a5bd-66ff09972c5d",
   "metadata": {},
   "source": [
    "##### Variables With No Value - None"
   ]
  },
  {
   "cell_type": "markdown",
   "id": "82e7fc94-25ee-479c-b732-72ceb7513860",
   "metadata": {},
   "source": [
    "Setting a variable to None means making it empty or not giving it any value yet. It's like preparing a placeholder for something you'll need later in your program, but you're not sure what its value will be yet."
   ]
  },
  {
   "cell_type": "code",
   "execution_count": 4,
   "id": "4bda5314-bcd5-44d5-8a7c-266d480bd2c9",
   "metadata": {},
   "outputs": [
    {
     "name": "stdout",
     "output_type": "stream",
     "text": [
      "The valuable age doen't have a value\n"
     ]
    }
   ],
   "source": [
    "\n",
    "age2 = None\n",
    "# Check if age2 is equal to None, If so print \"The valuable age doesn't have a value\"\n",
    "if age2 == None:\n",
    "    print(\"The valuable age doesn't have a value\")  \n"
   ]
  },
  {
   "cell_type": "code",
   "execution_count": null,
   "id": "407b95b3-8804-433b-8579-96c7d8bf06b6",
   "metadata": {},
   "outputs": [],
   "source": []
  }
 ],
 "metadata": {
  "kernelspec": {
   "display_name": "Python 3 (ipykernel)",
   "language": "python",
   "name": "python3"
  },
  "language_info": {
   "codemirror_mode": {
    "name": "ipython",
    "version": 3
   },
   "file_extension": ".py",
   "mimetype": "text/x-python",
   "name": "python",
   "nbconvert_exporter": "python",
   "pygments_lexer": "ipython3",
   "version": "3.10.13"
  }
 },
 "nbformat": 4,
 "nbformat_minor": 5
}
